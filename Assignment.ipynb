{
  "nbformat": 4,
  "nbformat_minor": 0,
  "metadata": {
    "colab": {
      "provenance": [],
      "authorship_tag": "ABX9TyPGWKPHgjpeAfMdDt3NGusZ",
      "include_colab_link": true
    },
    "kernelspec": {
      "name": "python3",
      "display_name": "Python 3"
    },
    "language_info": {
      "name": "python"
    }
  },
  "cells": [
    {
      "cell_type": "markdown",
      "metadata": {
        "id": "view-in-github",
        "colab_type": "text"
      },
      "source": [
        "<a href=\"https://colab.research.google.com/github/DenzelNero123/CCS-/blob/main/Assignment.ipynb\" target=\"_parent\"><img src=\"https://colab.research.google.com/assets/colab-badge.svg\" alt=\"Open In Colab\"/></a>"
      ]
    },
    {
      "cell_type": "code",
      "execution_count": 2,
      "metadata": {
        "colab": {
          "base_uri": "https://localhost:8080/"
        },
        "id": "dhMZgyhN26Jp",
        "outputId": "4b556b39-402b-4da8-be09-40fc141f5901"
      },
      "outputs": [
        {
          "output_type": "stream",
          "name": "stdout",
          "text": [
            "Requirement already satisfied: pandas in /usr/local/lib/python3.11/dist-packages (2.2.2)\n",
            "Requirement already satisfied: numpy>=1.23.2 in /usr/local/lib/python3.11/dist-packages (from pandas) (2.0.2)\n",
            "Requirement already satisfied: python-dateutil>=2.8.2 in /usr/local/lib/python3.11/dist-packages (from pandas) (2.8.2)\n",
            "Requirement already satisfied: pytz>=2020.1 in /usr/local/lib/python3.11/dist-packages (from pandas) (2025.2)\n",
            "Requirement already satisfied: tzdata>=2022.7 in /usr/local/lib/python3.11/dist-packages (from pandas) (2025.2)\n",
            "Requirement already satisfied: six>=1.5 in /usr/local/lib/python3.11/dist-packages (from python-dateutil>=2.8.2->pandas) (1.17.0)\n",
            "Inventory Table:\n",
            "    Product  Price  Quantity\n",
            "0  Notebook    120         5\n",
            "1       Pen     15        20\n",
            "2       Bag    350         3\n",
            "3    Pencil     10        15\n",
            "4     Ruler     25         7\n",
            "\n",
            "With Total Price:\n",
            "    Product  Price  Quantity  Total\n",
            "0  Notebook    120         5    600\n",
            "1       Pen     15        20    300\n",
            "2       Bag    350         3   1050\n",
            "3    Pencil     10        15    150\n",
            "4     Ruler     25         7    175\n",
            "\n",
            "Total Inventory Value: 2275\n"
          ]
        }
      ],
      "source": [
        "!pip install pandas\n",
        "\n",
        "import pandas as pd\n",
        "\n",
        "data = {\n",
        "    'Product': ['Notebook', 'Pen', 'Bag', 'Pencil', 'Ruler'],\n",
        "    'Price': [120, 15, 350, 10, 25],\n",
        "    'Quantity': [5, 20, 3, 15, 7]\n",
        "}\n",
        "\n",
        "df = pd.DataFrame(data)\n",
        "\n",
        "print(\"Inventory Table:\")\n",
        "print(df)\n",
        "\n",
        "df['Total'] = df['Price'] * df['Quantity']\n",
        "print(\"\\nWith Total Price:\")\n",
        "print(df)\n",
        "\n",
        "total_sales = df['Total'].sum()\n",
        "print(f\"\\nTotal Inventory Value: {total_sales}\")\n"
      ]
    }
  ]
}